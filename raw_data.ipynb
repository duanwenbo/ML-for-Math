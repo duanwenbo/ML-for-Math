{
 "cells": [
  {
   "cell_type": "code",
   "execution_count": null,
   "metadata": {},
   "outputs": [],
   "source": [
    "# @ Author: Wenbo Duan\n",
    "# @ Email: bobbyduanwenbo@live.com\n",
    "# @ Date: 23, Sep 2023\n",
    "# @ Function: \n",
    "#   1. Execute node elimination on the complete graph according to the ground truth order (generated in MATLAB)\n",
    "#   2. Record each sub-graph with the label, store them as the raw files before converting to the train/test set\n",
    "\n",
    "\n",
    "# generate nodel elimination results\n",
    "import networkx as nx\n",
    "import pandas as pd\n",
    "from itertools import combinations\n",
    "from collections import deque\n",
    "import matplotlib.pyplot as plt\n",
    "import os\n",
    "\n",
    "def extract_graph(graph_id:int, edges_info:pd.DataFrame)->nx.Graph:\n",
    "    # extract all pairwise nodes info from one graph\n",
    "    egdes = edges_info[edges_info.graph_id == graph_id].iloc[:,1:].values.tolist()\n",
    "    # adjust input format for networkx parsing\n",
    "    egdes = [f'{i} {j}' for i,j in egdes]\n",
    "    graph = nx.parse_adjlist(egdes)\n",
    "    return graph\n",
    "\n",
    "def extract_order(graph_id:int, nodes_info: pd.DataFrame) -> list:\n",
    "    nodes = nodes_info[nodes_info.graph_id == graph_id].iloc[:,1:]\n",
    "    nodes = nodes.sort_values(by=['node_label'])\n",
    "    return nodes.node_id.values.tolist()\n",
    "\n",
    "\n",
    "class EliminationEngine:\n",
    "    def __init__(self, graph:nx.Graph, recordON=True) -> None:\n",
    "        self.graph = graph\n",
    "        self.graph_clone = graph.copy()\n",
    "        self.fill_in_count = 0\n",
    "        self.recordON = recordON\n",
    "\n",
    "    def _add_fill_in(self, target_node):\n",
    "        neighbors = self.graph.neighbors(target_node)\n",
    "        potential_edges = combinations(neighbors,2)\n",
    "        for edge in potential_edges:\n",
    "            if edge not in self.graph.edges:\n",
    "                self.graph.add_edge(edge[0], edge[1])\n",
    "                if self.recordON:\n",
    "                    self.fill_in_count += 1\n",
    "                    self.graph.add_edge(edge[0], edge[1])\n",
    "                              \n",
    "    def eliminate(self, target_node):\n",
    "        self._add_fill_in(target_node)\n",
    "        self.graph.remove_node(target_node)\n",
    "\n",
    "\n",
    "class Eliminator(EliminationEngine):\n",
    "    def __init__(self, graph_id, graph: nx.Graph, eliminate_seq:list, visualize=True, recordON=True) -> None:\n",
    "        super().__init__(graph, recordON)\n",
    "        self.nodes = deque(eliminate_seq)\n",
    "        self.visualize = visualize\n",
    "        # father id: previous graph id \n",
    "        self.father_id = graph_id-1\n",
    "        # child id: the index of the eliminated graph from the father graph\n",
    "        self.child_id = 0\n",
    "    \n",
    "    def step(self):\n",
    "        if self.nodes:\n",
    "            target_node = str(self.nodes.popleft())\n",
    "            \n",
    "\n",
    "            if self.visualize:\n",
    "                plt.figure()\n",
    "                plt.title(f'Graph ID: {self.father_id}{self.child_id}\\neliminating {target_node}')\n",
    "                nx.draw(self.graph, with_labels=True)\n",
    "            self.eliminate(target_node)\n",
    "            self.child_id += 1\n",
    "        \n",
    "        elif self.recordON:\n",
    "            self.summary()\n",
    "        else:\n",
    "            print(\"finished\")\n",
    "      \n",
    "    def _record(self,edge_save_path, graph_save_path, target_node):\n",
    "        # save the edge info of the current elimination results\n",
    "        cur_id = f'{self.father_id}_{self.child_id}'\n",
    "        cur_graph = self.graph.copy()\n",
    "\n",
    "        # reset the graph label, reset index starting from 0, detach from the father graph\n",
    "        rename_label = {nodes: index for index, nodes in enumerate(cur_graph.nodes)}\n",
    "        nx.relabel_nodes(cur_graph, rename_label,copy=False)\n",
    "\n",
    "        # save edge_info\n",
    "        edges = list(cur_graph.edges)\n",
    "        raw = []\n",
    "        for source_id, destination_id in edges:\n",
    "            raw.append({\"graph_id\":cur_id, 'source_node_id':source_id, 'destination_node_id': destination_id})\n",
    "        edges_pd = pd.DataFrame(raw)\n",
    "        if not os.path.exists(edge_save_path):\n",
    "            edges_pd.to_csv(edge_save_path,mode='w+',header=True, index=False)\n",
    "        else:\n",
    "            edges_pd.to_csv(edge_save_path, mode='a+',header=False, index=False)\n",
    "\n",
    "        # save node info\n",
    "        print(cur_id)\n",
    "        raw = {'graph_id':cur_id, 'graph_label':rename_label[str(target_node)]}\n",
    "        graph_df = pd.DataFrame([raw])\n",
    "        if not os.path.exists(graph_save_path):\n",
    "            graph_df.to_csv(graph_save_path,mode='w+',header=True, index=False)\n",
    "        else:\n",
    "            graph_df.to_csv(graph_save_path, mode='a+',header=False, index=False)\n",
    "\n",
    "\n",
    "    def auto_step(self, edge_save_path, graph_save_path):\n",
    "        while self.nodes:\n",
    "            target_node = str(self.nodes.popleft())\n",
    "            self._record(edge_save_path, graph_save_path, target_node)\n",
    "            self.eliminate(target_node)\n",
    "            self.child_id += 1\n",
    "        # if self.recordON:\n",
    "        #     self.summary()\n",
    "    \n",
    "    def summary(self):\n",
    "        print(f'Global Graph ID: {self.father_id}\\nInput Node Size: {len(self.graph_clone.nodes)}\\nTotal fill-in: {self.fill_in_count}')\n"
   ]
  },
  {
   "cell_type": "markdown",
   "metadata": {},
   "source": [
    "### Loading the original files"
   ]
  },
  {
   "cell_type": "code",
   "execution_count": null,
   "metadata": {},
   "outputs": [],
   "source": [
    "edges_path = './data/GC_10/original/edges.csv'\n",
    "nodes_path = './data/GC_10/original/nodes.csv'\n",
    "\n",
    "edge_save_path ='./data/GC_10/raw/edges.csv'\n",
    "graph_save_path ='./data/GC_10/raw/graphes.csv'\n",
    "\n",
    "edges_info = pd.read_csv(edges_path)\n",
    "nodes_info = pd.read_csv(nodes_path)"
   ]
  },
  {
   "cell_type": "code",
   "execution_count": null,
   "metadata": {},
   "outputs": [],
   "source": [
    "from tqdm import tqdm\n",
    "\n",
    "graph_ids = nodes_info.graph_id.unique()\n",
    "for graph_id in tqdm(graph_ids):\n",
    "    graph = extract_graph(graph_id, edges_info)\n",
    "    nodes_seq = extract_order(graph_id, nodes_info)\n",
    "    eliminator = Eliminator(graph_id, graph,nodes_seq)\n",
    "    eliminator.auto_step(edge_save_path, graph_save_path)"
   ]
  },
  {
   "attachments": {},
   "cell_type": "markdown",
   "metadata": {},
   "source": [
    "### Single step example"
   ]
  },
  {
   "cell_type": "code",
   "execution_count": null,
   "metadata": {},
   "outputs": [],
   "source": [
    "edges_path = './data/GC_10/original/edges.csv'\n",
    "nodes_path = './data/GC_10/original/nodes.csv'\n",
    "\n",
    "edges_info = pd.read_csv(edges_path)\n",
    "nodes_info = pd.read_csv(nodes_path)\n",
    "\n",
    "graph_id = 1\n",
    "graph = extract_graph(graph_id, edges_info)\n",
    "nodes_seq = extract_order(graph_id, nodes_info)\n",
    "eliminator = Eliminator(graph_id, graph,nodes_seq)"
   ]
  },
  {
   "cell_type": "code",
   "execution_count": null,
   "metadata": {},
   "outputs": [],
   "source": [
    "eliminator.step()"
   ]
  },
  {
   "cell_type": "code",
   "execution_count": null,
   "metadata": {},
   "outputs": [],
   "source": [
    "eliminator.step()"
   ]
  },
  {
   "cell_type": "code",
   "execution_count": null,
   "metadata": {},
   "outputs": [],
   "source": [
    "eliminator.step()"
   ]
  },
  {
   "cell_type": "code",
   "execution_count": null,
   "metadata": {},
   "outputs": [],
   "source": [
    "eliminator.step()"
   ]
  },
  {
   "cell_type": "code",
   "execution_count": null,
   "metadata": {},
   "outputs": [],
   "source": [
    "eliminator.step()"
   ]
  }
 ],
 "metadata": {
  "kernelspec": {
   "display_name": "GNN",
   "language": "python",
   "name": "python3"
  },
  "language_info": {
   "codemirror_mode": {
    "name": "ipython",
    "version": 3
   },
   "file_extension": ".py",
   "mimetype": "text/x-python",
   "name": "python",
   "nbconvert_exporter": "python",
   "pygments_lexer": "ipython3",
   "version": "3.9.16"
  },
  "orig_nbformat": 4
 },
 "nbformat": 4,
 "nbformat_minor": 2
}
